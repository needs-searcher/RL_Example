{
 "cells": [
  {
   "cell_type": "code",
   "execution_count": 3,
   "id": "3b19253b",
   "metadata": {},
   "outputs": [],
   "source": [
    "# 게임룰\n",
    "#  승 : 동전 앞면/ 패 : 동전 뒷면\n",
    "#  Terminate : s = 0 or s = 100\n",
    "#  action = [1, 2, 3, ..., min(s, 100 - s)]\n",
    "#  gamma = 1\n",
    "#  R = 0 until Terminate/ 1 승리\n",
    "#  v(s) : 이길 확률\n",
    "#  p = 0.4 : 동전 앞면 나올 확률\n",
    "#  value iteration을 사용할 것\n",
    "'''\n",
    "/*******************************************************************************\n",
    "* Copyright juhyeong lee\n",
    "*******************************************************************************/\n",
    "'''"
   ]
  },
  {
   "cell_type": "code",
   "execution_count": 8,
   "id": "4459ab60",
   "metadata": {},
   "outputs": [
    {
     "name": "stdout",
     "output_type": "stream",
     "text": [
      "[1, 2, 3, 4, 5, 6, 7, 8, 9, 10, 11, 12, 13, 14, 15, 16, 17, 18, 19, 20, 21, 22, 23, 24, 25, 26, 27, 28, 29, 30, 31, 32, 33, 34, 35, 36, 37, 38, 39, 40, 41, 42, 43, 44, 45, 46, 47, 48, 49, 50, 51, 52, 53, 54, 55, 56, 57, 58, 59, 60, 61, 62, 63, 64, 65, 66, 67, 68, 69, 70, 71, 72, 73, 74, 75, 76, 77, 78, 79, 80, 81, 82, 83, 84, 85, 86, 87, 88, 89, 90, 91, 92, 93, 94, 95, 96, 97, 98, 99]\n"
     ]
    }
   ],
   "source": [
    "# state 생성\n",
    "states = [0] * 99\n",
    "for i in range(1,100):\n",
    "  states[i-1] = i\n",
    "print(states)"
   ]
  },
  {
   "cell_type": "code",
   "execution_count": 9,
   "id": "8423b1b4",
   "metadata": {},
   "outputs": [
    {
     "data": {
      "text/plain": [
       "'\\nq = [9, 2, 3, 5, 2, 11]\\nMaxList(q)\\n'"
      ]
     },
     "execution_count": 9,
     "metadata": {},
     "output_type": "execute_result"
    }
   ],
   "source": [
    "# state에 따른 actions 생성. (단, 함수 사용전에 a = []으로 초기화 매번 해줘야함.)\n",
    "def CreateAction(s,a):\n",
    "  for i in range(1,min(s, 100-s) + 1):\n",
    "    a.append(i)\n",
    "\n",
    "# CreateAction함수 테스트\n",
    "'''\n",
    "a = []\n",
    "s = 51\n",
    "CreateAction(s,a)\n",
    "print(a)\n",
    "'''\n",
    "\n",
    "# s, a에 따른 s'생성\n",
    "def CreateSprime(s,a,s_prime):\n",
    "  s_prime.append(s + a)\n",
    "  s_prime.append(s - a)\n",
    "\n",
    "'''\n",
    "s_primes = []\n",
    "CreateSprime(21, 21, s_primes)\n",
    "print(s_primes)\n",
    "'''\n",
    "\n",
    "\n",
    "# R 정의\n",
    "def Reward(s_prime):\n",
    "  if(s_prime == 100):\n",
    "    return 1\n",
    "  else:\n",
    "    return 0\n",
    "\n",
    "\n",
    "\n",
    "# P 정의\n",
    "def P(s,a,s_prime):\n",
    "  if(s_prime == s + a):\n",
    "    return 0.4\n",
    "  else:\n",
    "    return 0.6\n",
    "\n",
    "\n",
    "# 최고값 원소의 순서 출력 함수 정의\n",
    "def MaxList(q):\n",
    "  maxList = 0\n",
    "  maxVal = 0\n",
    "  size = len(q)\n",
    "  for i in range(0,size):\n",
    "    if(q[i] > maxVal):\n",
    "      maxList = i\n",
    "      maxVal = q[i]\n",
    "  return maxList\n",
    "'''\n",
    "q = [9, 2, 3, 5, 2, 11]\n",
    "MaxList(q)\n",
    "'''"
   ]
  },
  {
   "cell_type": "code",
   "execution_count": 10,
   "id": "6cb5329e",
   "metadata": {},
   "outputs": [
    {
     "name": "stdout",
     "output_type": "stream",
     "text": [
      "[0, 0.0020656247765443165, 0.005164061941360791, 0.009225471067793893, 0.012910154853401976, 0.017385398981324286, 0.02306367766948473, 0.02781411305627054, 0.03227538713350494, 0.03768507279536644, 0.04346349745331071, 0.05035446998069344, 0.05765919417371182, 0.06523937486592661, 0.06953528264067635, 0.07443123938879459, 0.08068846783376235, 0.08661104367721989, 0.09421268198841609, 0.10314362491955598, 0.10865874363327677, 0.11596662620633194, 0.1258861749517336, 0.13357997572379918, 0.14414798543427954, 0.16000000000000003, 0.1630984371648165, 0.1677460929120412, 0.17383820660169086, 0.17936523228010298, 0.18607809847198648, 0.19459551650422713, 0.20172116958440586, 0.20841308070025744, 0.2165276091930497, 0.2251952461799661, 0.2355317049710402, 0.24648879126056775, 0.25785906229888994, 0.26430292396101457, 0.2716468590831919, 0.28103270175064354, 0.28991656551582984, 0.30131902298262414, 0.314715437379334, 0.3229881154499152, 0.3339499393094979, 0.34882926242760043, 0.3603699635856987, 0.3762219781514193, 0.4, 0.4030984371648165, 0.4077460929120412, 0.41383820660169085, 0.419365232280103, 0.42607809847198647, 0.4345955165042271, 0.4417211695844059, 0.4484130807002574, 0.4565276091930497, 0.4651952461799661, 0.4755317049710402, 0.48648879126056777, 0.49785906229888993, 0.5043029239610146, 0.511646859083192, 0.5210327017506435, 0.5299165655158298, 0.5413190229826241, 0.5547154373793339, 0.5629881154499152, 0.5739499393094979, 0.5888292624276004, 0.6003699635856987, 0.6162219781514193, 0.64, 0.6446476557472247, 0.6516191393680618, 0.6607573099025363, 0.6690478484201545, 0.6791171477079796, 0.6918932747563407, 0.7025817543766089, 0.7126196210503861, 0.7247914137895746, 0.7377928692699491, 0.7532975574565602, 0.7697331868908517, 0.7867885934483348, 0.7964543859415218, 0.8074702886247878, 0.8215490526259653, 0.8348748482737447, 0.8519785344739361, 0.8720731560690009, 0.8844821731748727, 0.9009249089642468, 0.9232438936414006, 0.9405549453785481, 0.9643329672271289, 0]\n",
      "[0, 1, 2, 3, 4, 5, 6, 7, 8, 9, 10, 11, 12, 12, 11, 10, 16, 17, 18, 6, 5, 4, 3, 2, 1, 25, 1, 2, 3, 4, 5, 6, 32, 8, 9, 10, 11, 13, 12, 39, 10, 9, 8, 7, 6, 5, 4, 3, 2, 49, 50, 1, 2, 3, 4, 45, 6, 7, 8, 9, 10, 39, 12, 37, 14, 35, 9, 8, 7, 6, 5, 21, 3, 2, 24, 25, 1, 2, 3, 4, 5, 6, 18, 8, 16, 10, 11, 13, 12, 11, 10, 9, 8, 7, 6, 5, 4, 3, 2, 1, 0]\n"
     ]
    }
   ],
   "source": [
    "# value iteration(1)\n",
    "\n",
    "# 0~100 states에 대한 state-value, OptimalPolicy 초기화\n",
    "v = [0] * 101\n",
    "optPolicy = [0] * 101\n",
    "for _ in range(50):\n",
    "  for s in states:\n",
    "    #print('s = ', s)\n",
    "    # 가능한 action 생성\n",
    "    actions = []\n",
    "    CreateAction(s, actions)\n",
    "    #print('actions = ', actions)\n",
    "    \n",
    "    # q(s,a)를 a마다 만들고 이를 배열로 저장하기 위한 q 초기화\n",
    "    q = []\n",
    "    \n",
    "    # 가능한 s' 생성 후 s에 대한 value Iteration진행\n",
    "    for a in actions:\n",
    "      s_primes = []\n",
    "      CreateSprime(s, a, s_primes)\n",
    "      q.append(sum(P(s, a, s_prime)*(Reward(s_prime) + v[s_prime]) for s_prime in s_primes))\n",
    "      #print('q = ', q)\n",
    "    v[s] = max(q)\n",
    "    optPolicy[s] = MaxList(q) + 1\n",
    "  \n",
    "    # 문제점 : 마지막 a에 대한 s'만이 저장된다.\n",
    "    # 해결책 : q-value를 따로 만들어서 배열에 a에 따른 q값을 저장하고 각 s에서 max(q배열)을 구한다.\n",
    "\n",
    "print(v)\n",
    "print(optPolicy)  "
   ]
  },
  {
   "cell_type": "code",
   "execution_count": 11,
   "id": "9acc4bac",
   "metadata": {},
   "outputs": [
    {
     "data": {
      "image/png": "[encoded data removed]",
      "text/plain": [
       "<Figure size 432x288 with 2 Axes>"
      ]
     },
     "metadata": {
      "needs_background": "light"
     },
     "output_type": "display_data"
    }
   ],
   "source": [
    "# 그래프그리기\n",
    "import matplotlib.pyplot as plt\n",
    "'''plt.plot(v)\n",
    "plt.plot(optPolicy)\n",
    "'''\n",
    "fig = plt.figure()\n",
    "ax1 = fig.add_subplot(2, 1, 1)\n",
    "ax2 = fig.add_subplot(2, 1, 2)\n",
    "\n",
    "x = range(0, 101)\n",
    "y1 = v\n",
    "y2 = optPolicy\n",
    "ax1.plot(x, y1)\n",
    "ax2.bar(x, y2)\n",
    "\n",
    "plt.show()"
   ]
  }
 ],
 "metadata": {
  "jupytext": {
   "encoding": "# -*- coding: utf-8 -*-",
   "formats": "ipynb,py:light"
  },
  "kernelspec": {
   "display_name": "Python 3",
   "language": "python",
   "name": "python3"
  },
  "language_info": {
   "codemirror_mode": {
    "name": "ipython",
    "version": 3
   },
   "file_extension": ".py",
   "mimetype": "text/x-python",
   "name": "python",
   "nbconvert_exporter": "python",
   "pygments_lexer": "ipython3",
   "version": "3.6.8"
  }
 },
 "nbformat": 4,
 "nbformat_minor": 5
}
