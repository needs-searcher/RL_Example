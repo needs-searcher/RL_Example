{
  "nbformat": 4,
  "nbformat_minor": 0,
  "metadata": {
    "colab": {
      "name": "Cliff_v4_policyImprovementRevise",
      "provenance": [],
      "collapsed_sections": [],
      "authorship_tag": "ABX9TyMUFEPpapoA7IyyA2pobrgV",
      "include_colab_link": true
    },
    "kernelspec": {
      "name": "python3",
      "display_name": "Python 3"
    },
    "language_info": {
      "name": "python"
    }
  },
  "cells": [
    {
      "cell_type": "markdown",
      "metadata": {
        "id": "view-in-github",
        "colab_type": "text"
      },
      "source": [
        "<a href=\"https://colab.research.google.com/github/needs-searcher/RL_Example/blob/master/Cliff_v4_policyImprovementRevise.ipynb\" target=\"_parent\"><img src=\"https://colab.research.google.com/assets/colab-badge.svg\" alt=\"Open In Colab\"/></a>"
      ]
    },
    {
      "cell_type": "code",
      "metadata": {
        "id": "knPYCQAGIRVD"
      },
      "source": [
        "# rule\n",
        "# undiscounted, episodic\n",
        "# start, goal states exist\n",
        "# actions : up, down, right, left\n",
        "# R = -1 at all transition\n",
        "# R = -100 at cliff region and go to start point"
      ],
      "execution_count": null,
      "outputs": []
    },
    {
      "cell_type": "code",
      "metadata": {
        "id": "BNbUyFZrIVqy"
      },
      "source": [
        "import numpy as np\n",
        "from collections import defaultdict\n",
        "\n",
        "gamma = 1\n",
        "alpa = 0.1\n",
        "#epsilon = 0.1\n",
        "\n",
        "# define state\n",
        "start_key = (3,0)\n",
        "state = defaultdict(lambda : 0)\n",
        "\n",
        "for i in range(4):\n",
        "    for j in range(12):\n",
        "        if i == 3 and j>=1 and j<11:\n",
        "            state[(i,j)] = -1\n",
        "        else:\n",
        "            state[(i,j)] = 0\n",
        "\n",
        "# define action \n",
        "actions = [\"up\", \"down\", \"left\", \"right\"]"
      ],
      "execution_count": null,
      "outputs": []
    },
    {
      "cell_type": "code",
      "metadata": {
        "id": "t67E5ak9IZhR"
      },
      "source": [
        "# s' function\n",
        "def nxtstateKey(state_key, action):\n",
        "  origin = state_key\n",
        "  nxt_key_row = state_key[0]\n",
        "  nxt_key_col = state_key[1]\n",
        "  if action == 'up':\n",
        "    nxt_key_row -= 1\n",
        "  elif action == 'down':\n",
        "    nxt_key_row += 1\n",
        "  elif action == 'left':\n",
        "    nxt_key_col -= 1\n",
        "  elif action == 'right':\n",
        "    nxt_key_col += 1\n",
        "  if nxt_key_row >= 0 and nxt_key_row <= 3:\n",
        "    if nxt_key_col >= 0 and nxt_key_col <= 11:\n",
        "      return (nxt_key_row, nxt_key_col)\n",
        "    else:\n",
        "      return origin\n",
        "  else:\n",
        "    return origin\n",
        "\n",
        "# reward function\n",
        "def reward(next_state_key):\n",
        "    if state[next_state_key] == -1:\n",
        "        return -100\n",
        "    else:\n",
        "        return -1"
      ],
      "execution_count": null,
      "outputs": []
    },
    {
      "cell_type": "code",
      "metadata": {
        "id": "sTSJHPU8IbtD"
      },
      "source": [
        "# Q talbe intialize\n",
        "Q_table_SARSA = defaultdict(lambda : 0)\n",
        "pi_table_SARSA = defaultdict(lambda : 0)\n",
        "Q_table_Q_learning = defaultdict(lambda : 0)\n",
        "pi_table_Q_learning = defaultdict(lambda : 0)\n",
        "\n",
        "rewardSumList_SARSA = []\n",
        "rewardSumList_Q_learning = []"
      ],
      "execution_count": null,
      "outputs": []
    },
    {
      "cell_type": "code",
      "metadata": {
        "id": "sEXi_g33IdGm"
      },
      "source": [
        "# choose action on epsilon-greedy-policy\n",
        "def chooseAction(state_key, Q_table, epsilon):\n",
        "    if np.random.uniform(0,1) <= epsilon:\n",
        "        return np.random.choice(actions)\n",
        "    else:\n",
        "        Q_up = Q_table[(state_key,'up')]\n",
        "        Q_down = Q_table[(state_key,'down')]\n",
        "        Q_left = Q_table[(state_key,'left')]\n",
        "        Q_right = Q_table[(state_key,'right')]\n",
        "        QList = [Q_up, Q_down, Q_left, Q_right]\n",
        "        ind = QList.index(max(QList))\n",
        "        return actions[ind] # actions = [\"up\", \"down\", \"left\", \"right\"]"
      ],
      "execution_count": null,
      "outputs": []
    },
    {
      "cell_type": "code",
      "metadata": {
        "id": "faiU54cbIesX"
      },
      "source": [
        "# SARSA control\n",
        "def play_episode_SARSA(start_key, actions):\n",
        "  episode = []\n",
        "  rewardList_SARSA = []\n",
        "  state_key = start_key\n",
        "  while True:\n",
        "    if state[state_key] == -1: # if state is cliff state, break\n",
        "      #print('cliff! end game')\n",
        "      episode.append(state_key)\n",
        "      break\n",
        "    a = chooseAction(state_key, Q_table_SARSA, 0.1)\n",
        "    s_prime_key = nxtstateKey(state_key, a)\n",
        "    r = reward(s_prime_key)\n",
        "    rewardList_SARSA.append(r) # for making episode-reward graph\n",
        "    episode.append([state_key,a,r])\n",
        "    a_prime = chooseAction(s_prime_key, Q_table_SARSA, 0.1)\n",
        "    Q_table_SARSA[state_key,a] = Q_table_SARSA[state_key,a] + alpa*(r + gamma*Q_table_SARSA[s_prime_key,a_prime]-Q_table_SARSA[state_key,a])\n",
        "    state_key = s_prime_key\n",
        "    a = a_prime\n",
        "    if state_key == (3,11):\n",
        "      #print('Goal!!!')\n",
        "      episode.append(state_key)\n",
        "      break\n",
        "  #print(episode)\n",
        "  rewardSumList_SARSA.append(sum(rewardList_SARSA))\n",
        "  #print(rewardSumList_SARSA)"
      ],
      "execution_count": null,
      "outputs": []
    },
    {
      "cell_type": "code",
      "metadata": {
        "id": "qcYHcVT60pJ_"
      },
      "source": [
        "# Q-learning control\n",
        "def play_episode_Qlearning(start_key, actions):\n",
        "  episode = []\n",
        "  rewardList_Q_learning = []\n",
        "  state_key = start_key\n",
        "  while True:\n",
        "    if state[state_key] == -1:\n",
        "      #print('cliff! end game')\n",
        "      episode.append(state_key)\n",
        "      break\n",
        "    a = chooseAction(state_key, Q_table_Q_learning, 0.1)\n",
        "    s_prime_key = nxtstateKey(state_key, a)\n",
        "    r = reward(s_prime_key)\n",
        "    rewardList_Q_learning.append(r) # for making episode-reward graph\n",
        "    episode.append([state_key,a,r])\n",
        "    a_optimal = chooseAction(s_prime_key, Q_table_Q_learning, 0)\n",
        "    Q_table_Q_learning[state_key,a] = Q_table_Q_learning[state_key,a] + alpa*(r + gamma*Q_table_Q_learning[s_prime_key,a_optimal]-Q_table_Q_learning[state_key,a])\n",
        "    state_key = s_prime_key\n",
        "    if state_key == (3,11):\n",
        "      #print('Goal!!!')\n",
        "      episode.append(state_key)\n",
        "      break\n",
        "  #print(episode)\n",
        "  rewardSumList_Q_learning.append(sum(rewardList_Q_learning))\n",
        "  #print(rewardSumList_Q_learning)"
      ],
      "execution_count": null,
      "outputs": []
    },
    {
      "cell_type": "code",
      "metadata": {
        "id": "4gJfK6d_IjAk"
      },
      "source": [
        "# play episode on SARSA control\n",
        "count = 1000\n",
        "for _ in range(count):\n",
        "    play_episode_SARSA(start_key, actions)"
      ],
      "execution_count": null,
      "outputs": []
    },
    {
      "cell_type": "code",
      "metadata": {
        "id": "4fzmKa9lJQpv"
      },
      "source": [
        "# play episode on Q-learning control\n",
        "for _ in range(count):\n",
        "    play_episode_Qlearning(start_key, actions)"
      ],
      "execution_count": null,
      "outputs": []
    },
    {
      "cell_type": "code",
      "metadata": {
        "id": "1IWJHUwFZHit"
      },
      "source": [
        "# pi_table_SARSA update \n",
        "for i in range(4):\n",
        "  for j in range(12):\n",
        "    Q_up = Q_table_SARSA[((i,j),'up')]\n",
        "    Q_down = Q_table_SARSA[((i,j),'down')]\n",
        "    Q_left = Q_table_SARSA[((i,j),'left')]\n",
        "    Q_right = Q_table_SARSA[((i,j),'right')]\n",
        "    QList = [Q_up,Q_down,Q_left,Q_right]\n",
        "    ind = QList.index(max(QList))\n",
        "    pi_table_SARSA[(i,j)] = actions[ind] # actions = [\"up\", \"down\", \"left\", \"right\"]\n",
        "\n",
        "# pi_table_Qlearning update \n",
        "for i in range(4):\n",
        "  for j in range(12):\n",
        "    Q_up = Q_table_Q_learning[((i,j),'up')]\n",
        "    Q_down = Q_table_Q_learning[((i,j),'down')]\n",
        "    Q_left = Q_table_Q_learning[((i,j),'left')]\n",
        "    Q_right = Q_table_Q_learning[((i,j),'right')]\n",
        "    QList = [Q_up,Q_down,Q_left,Q_right]\n",
        "    ind = QList.index(max(QList))\n",
        "    pi_table_Q_learning[(i,j)] = actions[ind] # actions = [\"up\", \"down\", \"left\", \"right\"]"
      ],
      "execution_count": null,
      "outputs": []
    },
    {
      "cell_type": "code",
      "metadata": {
        "colab": {
          "base_uri": "https://localhost:8080/"
        },
        "id": "nzvMhyrYeJeE",
        "outputId": "8ef18531-55fe-4c8a-d1cc-cb8d99f1cc32"
      },
      "source": [
        "# draw pi_table_SARSA on gridworld\n",
        "for i in range(4):\n",
        "  print('-------------------------------------------------------------')\n",
        "  out = '| '\n",
        "  for j in range(12):\n",
        "    if pi_table_SARSA[(i,j)] == 'up':\n",
        "      token = '↑'\n",
        "    if pi_table_SARSA[(i,j)] == 'down':\n",
        "      token = '↓'\n",
        "    if pi_table_SARSA[(i,j)] == 'right':\n",
        "      token = '→'\n",
        "    if pi_table_SARSA[(i,j)] == 'left':\n",
        "      token = '←'\n",
        "    if state[(i,j)] == -1:\n",
        "      token = '**'\n",
        "    #if (i, j) == (3,0):\n",
        "    #  token = ' S '\n",
        "    if (i, j) == (3,11):\n",
        "      token = ' G '\n",
        "    out += token + ' | '\n",
        "  print(out)\n",
        "print('-------------------------------------------------------------')"
      ],
      "execution_count": null,
      "outputs": [
        {
          "output_type": "stream",
          "name": "stdout",
          "text": [
            "-------------------------------------------------------------\n",
            "| → | → | → | → | → | → | → | → | → | → | → | ↓ | \n",
            "-------------------------------------------------------------\n",
            "| → | → | → | → | → | → | → | → | → | → | → | ↓ | \n",
            "-------------------------------------------------------------\n",
            "| ↑ | ↑ | ↑ | → | → | → | ↑ | ↑ | → | ↑ | → | ↓ | \n",
            "-------------------------------------------------------------\n",
            "| ↑ | ** | ** | ** | ** | ** | ** | ** | ** | ** | ** |  G  | \n",
            "-------------------------------------------------------------\n"
          ]
        }
      ]
    },
    {
      "cell_type": "code",
      "metadata": {
        "colab": {
          "base_uri": "https://localhost:8080/"
        },
        "id": "MBRjlY8tAldJ",
        "outputId": "016dc49f-340f-4146-97e0-ccb44aa8108c"
      },
      "source": [
        "# draw pi_table_Qlearning on gridworld\n",
        "for i in range(4):\n",
        "  print('-------------------------------------------------------------')\n",
        "  out = '| '\n",
        "  for j in range(12):\n",
        "    if pi_table_Q_learning[(i,j)] == 'up':\n",
        "      token = '↑'\n",
        "    if pi_table_Q_learning[(i,j)] == 'down':\n",
        "      token = '↓'\n",
        "    if pi_table_Q_learning[(i,j)] == 'right':\n",
        "      token = '→'\n",
        "    if pi_table_Q_learning[(i,j)] == 'left':\n",
        "      token = '←'\n",
        "    if state[(i,j)] == -1:\n",
        "      token = '**'\n",
        "    #if (i, j) == (3,0):\n",
        "      #token = ' S '\n",
        "    if (i, j) == (3,11):\n",
        "      token = ' G '\n",
        "    out += token + ' | '\n",
        "  print(out)\n",
        "print('-------------------------------------------------------------')"
      ],
      "execution_count": null,
      "outputs": [
        {
          "output_type": "stream",
          "name": "stdout",
          "text": [
            "-------------------------------------------------------------\n",
            "| → | ↓ | ↑ | ← | → | ↓ | → | ↑ | → | → | ↓ | ↓ | \n",
            "-------------------------------------------------------------\n",
            "| ↑ | ↑ | → | → | ↓ | ↓ | ↓ | → | ↓ | → | ↓ | ↓ | \n",
            "-------------------------------------------------------------\n",
            "| → | → | → | → | → | → | → | → | → | → | → | ↓ | \n",
            "-------------------------------------------------------------\n",
            "| ↑ | ** | ** | ** | ** | ** | ** | ** | ** | ** | ** |  G  | \n",
            "-------------------------------------------------------------\n"
          ]
        }
      ]
    },
    {
      "cell_type": "code",
      "metadata": {
        "colab": {
          "base_uri": "https://localhost:8080/",
          "height": 284
        },
        "id": "vlUFyKsv7jWq",
        "outputId": "a96e7662-4fd0-4dfa-8fe1-883abb71ff2c"
      },
      "source": [
        "import matplotlib.pyplot as plt\n",
        "import numpy as np\n",
        "\n",
        "fig = plt.figure()\n",
        "episode_count = []\n",
        "for i in range(count):\n",
        "    episode_count.append(i+1)\n",
        "plt.plot(episode_count,rewardSumList_SARSA, label='SARSA')\n",
        "plt.plot(episode_count,rewardSumList_Q_learning, label='Q-learning')\n",
        "plt.legend()\n",
        "plt.xlim(480,500)"
      ],
      "execution_count": null,
      "outputs": [
        {
          "output_type": "execute_result",
          "data": {
            "text/plain": [
              "(480.0, 500.0)"
            ]
          },
          "metadata": {},
          "execution_count": 75
        },
        {
          "output_type": "display_data",
          "data": {
            "image/png": "[encoded data removed]",
            "text/plain": [
              "<Figure size 432x288 with 1 Axes>"
            ]
          },
          "metadata": {
            "needs_background": "light"
          }
        }
      ]
    }
  ]
}